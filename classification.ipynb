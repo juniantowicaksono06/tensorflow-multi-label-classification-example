{
 "cells": [
  {
   "cell_type": "code",
   "execution_count": 8,
   "metadata": {},
   "outputs": [],
   "source": [
    "import os\n",
    "os.environ['TF_CPP_MIN_LOG_LEVEL'] = '2'\n",
    "import tensorflow as tf\n",
    "import pandas as pd\n",
    "from nltk.corpus import stopwords\n",
    "import nltk\n",
    "import numpy as np\n",
    "from nltk.tokenize import word_tokenize\n",
    "from keras.optimizers import Adam\n",
    "import string\n",
    "from Sastrawi.Stemmer.StemmerFactory import StemmerFactory\n",
    "stop_words = stopwords.words('indonesian')"
   ]
  },
  {
   "cell_type": "code",
   "execution_count": 9,
   "metadata": {},
   "outputs": [
    {
     "data": {
      "text/html": [
       "<div>\n",
       "<style scoped>\n",
       "    .dataframe tbody tr th:only-of-type {\n",
       "        vertical-align: middle;\n",
       "    }\n",
       "\n",
       "    .dataframe tbody tr th {\n",
       "        vertical-align: top;\n",
       "    }\n",
       "\n",
       "    .dataframe thead th {\n",
       "        text-align: right;\n",
       "    }\n",
       "</style>\n",
       "<table border=\"1\" class=\"dataframe\">\n",
       "  <thead>\n",
       "    <tr style=\"text-align: right;\">\n",
       "      <th></th>\n",
       "      <th>questions</th>\n",
       "      <th>domain</th>\n",
       "      <th>dsc</th>\n",
       "      <th>email</th>\n",
       "      <th>gagal connect</th>\n",
       "      <th>laptop</th>\n",
       "      <th>login</th>\n",
       "      <th>moana</th>\n",
       "      <th>network</th>\n",
       "      <th>password</th>\n",
       "      <th>reset password</th>\n",
       "      <th>sccm</th>\n",
       "      <th>ticket</th>\n",
       "      <th>visa</th>\n",
       "      <th>vpn</th>\n",
       "      <th>wifi</th>\n",
       "    </tr>\n",
       "  </thead>\n",
       "  <tbody>\n",
       "    <tr>\n",
       "      <th>0</th>\n",
       "      <td>bagaimana cara connect wifi dan visa</td>\n",
       "      <td>0</td>\n",
       "      <td>0</td>\n",
       "      <td>0</td>\n",
       "      <td>0</td>\n",
       "      <td>0</td>\n",
       "      <td>0</td>\n",
       "      <td>0</td>\n",
       "      <td>0</td>\n",
       "      <td>0</td>\n",
       "      <td>0</td>\n",
       "      <td>0</td>\n",
       "      <td>0</td>\n",
       "      <td>1</td>\n",
       "      <td>0</td>\n",
       "      <td>1</td>\n",
       "    </tr>\n",
       "    <tr>\n",
       "      <th>1</th>\n",
       "      <td>connect wifi</td>\n",
       "      <td>0</td>\n",
       "      <td>0</td>\n",
       "      <td>0</td>\n",
       "      <td>0</td>\n",
       "      <td>0</td>\n",
       "      <td>0</td>\n",
       "      <td>0</td>\n",
       "      <td>0</td>\n",
       "      <td>0</td>\n",
       "      <td>0</td>\n",
       "      <td>0</td>\n",
       "      <td>0</td>\n",
       "      <td>0</td>\n",
       "      <td>0</td>\n",
       "      <td>1</td>\n",
       "    </tr>\n",
       "    <tr>\n",
       "      <th>2</th>\n",
       "      <td>wifi bermasalah</td>\n",
       "      <td>0</td>\n",
       "      <td>0</td>\n",
       "      <td>0</td>\n",
       "      <td>0</td>\n",
       "      <td>0</td>\n",
       "      <td>0</td>\n",
       "      <td>0</td>\n",
       "      <td>0</td>\n",
       "      <td>0</td>\n",
       "      <td>0</td>\n",
       "      <td>0</td>\n",
       "      <td>0</td>\n",
       "      <td>0</td>\n",
       "      <td>0</td>\n",
       "      <td>1</td>\n",
       "    </tr>\n",
       "    <tr>\n",
       "      <th>3</th>\n",
       "      <td>saya ingin konek ke visa tapi tidak bisa</td>\n",
       "      <td>0</td>\n",
       "      <td>0</td>\n",
       "      <td>0</td>\n",
       "      <td>0</td>\n",
       "      <td>0</td>\n",
       "      <td>0</td>\n",
       "      <td>0</td>\n",
       "      <td>0</td>\n",
       "      <td>0</td>\n",
       "      <td>0</td>\n",
       "      <td>0</td>\n",
       "      <td>0</td>\n",
       "      <td>1</td>\n",
       "      <td>0</td>\n",
       "      <td>0</td>\n",
       "    </tr>\n",
       "    <tr>\n",
       "      <th>4</th>\n",
       "      <td>bagaimana cara connect wifi di visa?</td>\n",
       "      <td>0</td>\n",
       "      <td>0</td>\n",
       "      <td>0</td>\n",
       "      <td>0</td>\n",
       "      <td>0</td>\n",
       "      <td>0</td>\n",
       "      <td>0</td>\n",
       "      <td>0</td>\n",
       "      <td>0</td>\n",
       "      <td>0</td>\n",
       "      <td>0</td>\n",
       "      <td>0</td>\n",
       "      <td>1</td>\n",
       "      <td>0</td>\n",
       "      <td>1</td>\n",
       "    </tr>\n",
       "    <tr>\n",
       "      <th>...</th>\n",
       "      <td>...</td>\n",
       "      <td>...</td>\n",
       "      <td>...</td>\n",
       "      <td>...</td>\n",
       "      <td>...</td>\n",
       "      <td>...</td>\n",
       "      <td>...</td>\n",
       "      <td>...</td>\n",
       "      <td>...</td>\n",
       "      <td>...</td>\n",
       "      <td>...</td>\n",
       "      <td>...</td>\n",
       "      <td>...</td>\n",
       "      <td>...</td>\n",
       "      <td>...</td>\n",
       "      <td>...</td>\n",
       "    </tr>\n",
       "    <tr>\n",
       "      <th>76</th>\n",
       "      <td>bantu saya untuk membuat ticket komplain visa ...</td>\n",
       "      <td>0</td>\n",
       "      <td>0</td>\n",
       "      <td>0</td>\n",
       "      <td>0</td>\n",
       "      <td>0</td>\n",
       "      <td>0</td>\n",
       "      <td>0</td>\n",
       "      <td>0</td>\n",
       "      <td>0</td>\n",
       "      <td>0</td>\n",
       "      <td>0</td>\n",
       "      <td>1</td>\n",
       "      <td>0</td>\n",
       "      <td>0</td>\n",
       "      <td>0</td>\n",
       "    </tr>\n",
       "    <tr>\n",
       "      <th>77</th>\n",
       "      <td>bagaimana cara connect izone visa dan vpn</td>\n",
       "      <td>0</td>\n",
       "      <td>0</td>\n",
       "      <td>0</td>\n",
       "      <td>0</td>\n",
       "      <td>0</td>\n",
       "      <td>0</td>\n",
       "      <td>0</td>\n",
       "      <td>0</td>\n",
       "      <td>0</td>\n",
       "      <td>0</td>\n",
       "      <td>0</td>\n",
       "      <td>0</td>\n",
       "      <td>1</td>\n",
       "      <td>1</td>\n",
       "      <td>1</td>\n",
       "    </tr>\n",
       "    <tr>\n",
       "      <th>78</th>\n",
       "      <td>saya ingin connect ke byod visa dan vpn</td>\n",
       "      <td>0</td>\n",
       "      <td>0</td>\n",
       "      <td>0</td>\n",
       "      <td>0</td>\n",
       "      <td>0</td>\n",
       "      <td>0</td>\n",
       "      <td>0</td>\n",
       "      <td>0</td>\n",
       "      <td>0</td>\n",
       "      <td>0</td>\n",
       "      <td>0</td>\n",
       "      <td>0</td>\n",
       "      <td>1</td>\n",
       "      <td>1</td>\n",
       "      <td>1</td>\n",
       "    </tr>\n",
       "    <tr>\n",
       "      <th>79</th>\n",
       "      <td>cara buat komplain visa management</td>\n",
       "      <td>0</td>\n",
       "      <td>0</td>\n",
       "      <td>0</td>\n",
       "      <td>0</td>\n",
       "      <td>0</td>\n",
       "      <td>0</td>\n",
       "      <td>0</td>\n",
       "      <td>0</td>\n",
       "      <td>0</td>\n",
       "      <td>0</td>\n",
       "      <td>0</td>\n",
       "      <td>1</td>\n",
       "      <td>0</td>\n",
       "      <td>0</td>\n",
       "      <td>0</td>\n",
       "    </tr>\n",
       "    <tr>\n",
       "      <th>80</th>\n",
       "      <td>panduan buat komplain visa management</td>\n",
       "      <td>0</td>\n",
       "      <td>0</td>\n",
       "      <td>0</td>\n",
       "      <td>0</td>\n",
       "      <td>0</td>\n",
       "      <td>0</td>\n",
       "      <td>0</td>\n",
       "      <td>0</td>\n",
       "      <td>0</td>\n",
       "      <td>0</td>\n",
       "      <td>0</td>\n",
       "      <td>1</td>\n",
       "      <td>0</td>\n",
       "      <td>0</td>\n",
       "      <td>0</td>\n",
       "    </tr>\n",
       "  </tbody>\n",
       "</table>\n",
       "<p>453 rows × 16 columns</p>\n",
       "</div>"
      ],
      "text/plain": [
       "                                            questions  domain  dsc  email  \\\n",
       "0                bagaimana cara connect wifi dan visa       0    0      0   \n",
       "1                                        connect wifi       0    0      0   \n",
       "2                                     wifi bermasalah       0    0      0   \n",
       "3            saya ingin konek ke visa tapi tidak bisa       0    0      0   \n",
       "4                bagaimana cara connect wifi di visa?       0    0      0   \n",
       "..                                                ...     ...  ...    ...   \n",
       "76  bantu saya untuk membuat ticket komplain visa ...       0    0      0   \n",
       "77          bagaimana cara connect izone visa dan vpn       0    0      0   \n",
       "78            saya ingin connect ke byod visa dan vpn       0    0      0   \n",
       "79                 cara buat komplain visa management       0    0      0   \n",
       "80              panduan buat komplain visa management       0    0      0   \n",
       "\n",
       "    gagal connect  laptop  login  moana  network  password  reset password  \\\n",
       "0               0       0      0      0        0         0               0   \n",
       "1               0       0      0      0        0         0               0   \n",
       "2               0       0      0      0        0         0               0   \n",
       "3               0       0      0      0        0         0               0   \n",
       "4               0       0      0      0        0         0               0   \n",
       "..            ...     ...    ...    ...      ...       ...             ...   \n",
       "76              0       0      0      0        0         0               0   \n",
       "77              0       0      0      0        0         0               0   \n",
       "78              0       0      0      0        0         0               0   \n",
       "79              0       0      0      0        0         0               0   \n",
       "80              0       0      0      0        0         0               0   \n",
       "\n",
       "    sccm  ticket  visa  vpn  wifi  \n",
       "0      0       0     1    0     1  \n",
       "1      0       0     0    0     1  \n",
       "2      0       0     0    0     1  \n",
       "3      0       0     1    0     0  \n",
       "4      0       0     1    0     1  \n",
       "..   ...     ...   ...  ...   ...  \n",
       "76     0       1     0    0     0  \n",
       "77     0       0     1    1     1  \n",
       "78     0       0     1    1     1  \n",
       "79     0       1     0    0     0  \n",
       "80     0       1     0    0     0  \n",
       "\n",
       "[453 rows x 16 columns]"
      ]
     },
     "execution_count": 9,
     "metadata": {},
     "output_type": "execute_result"
    }
   ],
   "source": [
    "df_train = pd.read_csv('datasets/new_dataset.csv')\n",
    "MAX_SEQUENCE_LENGTH = 250\n",
    "selected_column = df_train.columns[1:]\n",
    "df_test = pd.read_csv('datasets/data_test.csv')\n",
    "total_train_data = len(df_train)\n",
    "df_train = df_train.append(df_test)\n",
    "df_train"
   ]
  },
  {
   "cell_type": "code",
   "execution_count": 10,
   "metadata": {},
   "outputs": [],
   "source": [
    "def preprocessingText(text: str):\n",
    "    factory = StemmerFactory()\n",
    "    stemmer = factory.create_stemmer()\n",
    "    text = text.lower()\n",
    "    text = stemmer.stem(text)\n",
    "    text = text.translate(str.maketrans('', '', string.punctuation))\n",
    "    text_tokenize = word_tokenize(text)\n",
    "    text = [t for t in text_tokenize if t not in stop_words]\n",
    "    text = \" \".join(text)\n",
    "    return text"
   ]
  },
  {
   "cell_type": "code",
   "execution_count": 11,
   "metadata": {},
   "outputs": [
    {
     "data": {
      "text/plain": [
       "0                  connect wifi visa\n",
       "1                       connect wifi\n",
       "2                               wifi\n",
       "3                         konek visa\n",
       "4                  connect wifi visa\n",
       "                   ...              \n",
       "76        bantu ticket komplain visa\n",
       "77            connect izone visa vpn\n",
       "78             connect byod visa vpn\n",
       "79          komplain visa management\n",
       "80    pandu komplain visa management\n",
       "Name: questions, Length: 453, dtype: object"
      ]
     },
     "execution_count": 11,
     "metadata": {},
     "output_type": "execute_result"
    }
   ],
   "source": [
    "df_train['questions'] = df_train['questions'].apply(lambda x: preprocessingText(x))\n",
    "df_train['questions']"
   ]
  },
  {
   "cell_type": "code",
   "execution_count": 12,
   "metadata": {},
   "outputs": [],
   "source": [
    "num_words = 500\n",
    "max_words = 100000"
   ]
  },
  {
   "cell_type": "code",
   "execution_count": 13,
   "metadata": {},
   "outputs": [],
   "source": [
    "X = df_train['questions'].values\n",
    "tokenizer = tf.keras.preprocessing.text.Tokenizer(max_words)\n",
    "tokenizer.fit_on_texts(X)\n",
    "X_train = tokenizer.texts_to_sequences(X)\n",
    "X_train = tf.keras.utils.pad_sequences(X_train, MAX_SEQUENCE_LENGTH)"
   ]
  },
  {
   "cell_type": "code",
   "execution_count": 14,
   "metadata": {},
   "outputs": [],
   "source": [
    "X_train_data = X_train[0:total_train_data]\n",
    "X_test_data = X_train[total_train_data:]"
   ]
  },
  {
   "cell_type": "code",
   "execution_count": 15,
   "metadata": {},
   "outputs": [],
   "source": [
    "columns = df_train.columns\n",
    "y_train = np.array(df_train[columns[1:]])\n",
    "y_train_data = y_train[0:total_train_data]\n",
    "y_test_data = y_train[total_train_data:]"
   ]
  },
  {
   "cell_type": "code",
   "execution_count": 16,
   "metadata": {},
   "outputs": [],
   "source": [
    "embeddings_index = {}\n",
    "with open('embedding.txt', encoding='utf-8') as file:\n",
    "    for line in file:\n",
    "        values = line.rstrip().rsplit(', ')\n",
    "        word = values[0]\n",
    "        embed = np.asarray(values[1].split(' '), dtype='float32')\n",
    "        embeddings_index[word] = embed\n",
    "\n",
    "embed_size = 50\n",
    "word_index = tokenizer.word_index\n",
    "embed_num_words = min(max_words, len(word_index) + 1)\n",
    "embedding_matrix = np.zeros((num_words, embed_size), dtype='float32')"
   ]
  },
  {
   "cell_type": "code",
   "execution_count": 17,
   "metadata": {},
   "outputs": [],
   "source": [
    "for word, i in word_index.items():\n",
    "    if i >= max_words:\n",
    "        continue\n",
    "    embedding_vector = embeddings_index.get(word)\n",
    "    if embedding_vector is not None:\n",
    "        embedding_matrix[i] = embedding_vector"
   ]
  },
  {
   "cell_type": "code",
   "execution_count": null,
   "metadata": {},
   "outputs": [],
   "source": [
    "MAX_LEN = 250\n",
    "input = tf.keras.layers.Input(shape=(MAX_LEN,))\n",
    "x = tf.keras.layers.Embedding(embedding_matrix.shape[0], embedding_matrix.shape[1], weights=[embedding_matrix], trainable=False)(input)\n",
    "x = tf.keras.layers.Bidirectional(tf.keras.layers.GRU(256, return_sequences=True, dropout=0.1,\n",
    "                                                      recurrent_dropout=0.1))(x)\n",
    "x = tf.keras.layers.Conv1D(128, kernel_size=3, padding=\"valid\", kernel_initializer=\"glorot_uniform\")(x)\n",
    "avg_pool = tf.keras.layers.GlobalAveragePooling1D()(x)\n",
    "max_pool = tf.keras.layers.GlobalMaxPooling1D()(x)\n",
    "\n",
    "x = tf.keras.layers.concatenate([avg_pool, max_pool])\n",
    "\n",
    "preds = tf.keras.layers.Dense(y_train.shape[1], activation=\"sigmoid\")(x)\n",
    "\n",
    "model = tf.keras.Model(input, preds)\n",
    "\n",
    "\n",
    "optimizer = Adam(learning_rate=1e-3)\n",
    "model.compile(loss='binary_crossentropy', optimizer=optimizer, metrics=['accuracy'])\n",
    "checkpoint_path = \"training_1/cp.ckpt\"\n",
    "checkpoint_dir = os.path.dirname(checkpoint_path)\n",
    "\n",
    "cp_callback = tf.keras.callbacks.ModelCheckpoint(checkpoint_path,\n",
    "                                                 save_weights_only=True,\n",
    "                                                 verbose=1)\n",
    "callbacks = [\n",
    "    tf.keras.callbacks.EarlyStopping(patience=5, monitor='val_loss'),\n",
    "    tf.keras.callbacks.TensorBoard(log_dir='./logs'),\n",
    "    cp_callback\n",
    "]\n",
    "# model.fit(X_train, y_train, verbose=1, epochs=10, validation_split=0.2, callbacks=callbacks)\n",
    "model.fit(X_train_data, y_train_data, verbose=1, epochs=10, validation_data=(X_test_data, y_test_data), callbacks=callbacks)"
   ]
  },
  {
   "cell_type": "code",
   "execution_count": null,
   "metadata": {},
   "outputs": [
    {
     "name": "stdout",
     "output_type": "stream",
     "text": [
      "15/15 [==============================] - 9s 595ms/step - loss: 0.0460 - accuracy: 0.7086\n"
     ]
    },
    {
     "data": {
      "text/plain": [
       "[0.04600673168897629, 0.7086092829704285]"
      ]
     },
     "execution_count": 12,
     "metadata": {},
     "output_type": "execute_result"
    }
   ],
   "source": [
    "model.evaluate(X_train, y_train)"
   ]
  },
  {
   "cell_type": "code",
   "execution_count": null,
   "metadata": {},
   "outputs": [
    {
     "data": {
      "text/plain": [
       "'0.000'"
      ]
     },
     "execution_count": 13,
     "metadata": {},
     "output_type": "execute_result"
    }
   ],
   "source": [
    "'{:.3f}'.format(3.6592403e-13)\n",
    "#  9.9997795e-01 -> 0.99997795"
   ]
  },
  {
   "cell_type": "code",
   "execution_count": null,
   "metadata": {},
   "outputs": [
    {
     "name": "stderr",
     "output_type": "stream",
     "text": [
      "WARNING:absl:Found untraced functions such as _jit_compiled_convolution_op while saving (showing 1 of 1). These functions will not be directly callable after loading.\n"
     ]
    },
    {
     "name": "stdout",
     "output_type": "stream",
     "text": [
      "INFO:tensorflow:Assets written to: tf_model\\assets\n"
     ]
    },
    {
     "name": "stderr",
     "output_type": "stream",
     "text": [
      "INFO:tensorflow:Assets written to: tf_model\\assets\n"
     ]
    }
   ],
   "source": [
    "model.save('tf_model')"
   ]
  },
  {
   "cell_type": "code",
   "execution_count": null,
   "metadata": {},
   "outputs": [],
   "source": [
    "model = tf.keras.models.load_model('tf_model')"
   ]
  },
  {
   "cell_type": "code",
   "execution_count": null,
   "metadata": {},
   "outputs": [
    {
     "name": "stdout",
     "output_type": "stream",
     "text": [
      "ticket\n",
      "1/1 [==============================] - 0s 273ms/step\n",
      "ticket 0.990\n"
     ]
    }
   ],
   "source": [
    "faq = 'buat ticket '\n",
    "faq = preprocessingText(faq)\n",
    "print(faq)\n",
    "tokenize_faq = word_tokenize(faq)\n",
    "tokenize_faq = [val for val in tokenize_faq if val not in stop_words]\n",
    "faq = \" \".join(tokenize_faq)\n",
    "new_faq = [faq]\n",
    "seq = tokenizer.texts_to_sequences(new_faq)\n",
    "padded = tf.keras.utils.pad_sequences(seq, MAX_SEQUENCE_LENGTH)\n",
    "pred = model.predict(padded)\n",
    "threshold = 0.5\n",
    "found = False\n",
    "for i in range(len(selected_column)):\n",
    "    if pred[0][i] > threshold:\n",
    "        found = True\n",
    "        pred1 = '{:.3f}'.format(pred[0][i])\n",
    "        print(selected_column[i], pred1)\n",
    "\n",
    "if not found:\n",
    "    print(\"Tags tidak ditemukan\")"
   ]
  }
 ],
 "metadata": {
  "kernelspec": {
   "display_name": "env",
   "language": "python",
   "name": "python3"
  },
  "language_info": {
   "codemirror_mode": {
    "name": "ipython",
    "version": 3
   },
   "file_extension": ".py",
   "mimetype": "text/x-python",
   "name": "python",
   "nbconvert_exporter": "python",
   "pygments_lexer": "ipython3",
   "version": "3.7.9"
  },
  "orig_nbformat": 4,
  "vscode": {
   "interpreter": {
    "hash": "b22699675e782bd92b0095c78eefab2f94871841b1ff939903c06a1c00ac5e68"
   }
  }
 },
 "nbformat": 4,
 "nbformat_minor": 2
}
